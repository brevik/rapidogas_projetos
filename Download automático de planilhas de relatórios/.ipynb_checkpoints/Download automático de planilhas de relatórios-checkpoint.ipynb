{
 "cells": [
  {
   "cell_type": "markdown",
   "metadata": {},
   "source": [
    "DOWNLOAD AUTOMÁTICO DE PLANILHAS DE RELATÓRIOS"
   ]
  },
  {
   "cell_type": "code",
   "execution_count": 13,
   "metadata": {},
   "outputs": [],
   "source": [
    "from selenium import webdriver\n",
    "import time\n",
    "\n",
    "usuario = \"\"\n",
    "senha = \"\"\n",
    "xpathLogin = '//*[@id=\"UserName\"]'\n",
    "xpathSenha = '//*[@id=\"Password\"]'\n",
    "xpathBotaoEnviar = '/html/body/div[3]/div/div/form/div/div[4]/div/button'\n",
    "\n",
    "navegador = webdriver.Chrome()\n",
    "\n",
    "navegador.get(\"https://kpdelivery.com.br/\")\n",
    "navegador.find_element_by_xpath(xpathLogin).send_keys(usuario)\n",
    "navegador.find_element_by_xpath(xpathSenha).send_keys(senha)\n",
    "time.sleep(1)\n",
    "navegador.find_element_by_xpath(xpathBotaoEnviar).click()\n",
    "\n"
   ]
  }
 ],
 "metadata": {
  "kernelspec": {
   "display_name": "Python 3",
   "language": "python",
   "name": "python3"
  },
  "language_info": {
   "codemirror_mode": {
    "name": "ipython",
    "version": 3
   },
   "file_extension": ".py",
   "mimetype": "text/x-python",
   "name": "python",
   "nbconvert_exporter": "python",
   "pygments_lexer": "ipython3",
   "version": "3.8.5"
  }
 },
 "nbformat": 4,
 "nbformat_minor": 4
}
