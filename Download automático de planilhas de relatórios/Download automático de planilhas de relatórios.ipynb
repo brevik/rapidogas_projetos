{
 "cells": [
  {
   "cell_type": "markdown",
   "metadata": {},
   "source": [
    "# DOWNLOAD AUTOMÁTICO DE PLANILHAS \n",
    "## Planilhas que formam a base dados para os relatórios em PowerBI"
   ]
  },
  {
   "cell_type": "code",
   "execution_count": 1,
   "metadata": {},
   "outputs": [],
   "source": [
    "from selenium import webdriver\n",
    "import time\n",
    "\n",
    "\n",
    "\n",
    "#ler arquivos de configurações\n",
    "with open(\"config.txt\", \"r\", encoding=\"utf-8\") as arquivo:\n",
    "    config = arquivo.readlines()\n",
    "\n",
    "#definições\n",
    "usuario = config[0]\n",
    "senha = config[1]\n",
    "dataInicial = config[2]\n",
    "dataFinal = config[3]\n",
    "\n",
    "#xpaths\n",
    "xpath_login = '//*[@id=\"UserName\"]'\n",
    "xpath_senha = '//*[@id=\"Password\"]'\n",
    "xpath_botaoEnviar = '/html/body/div[3]/div/div/form/div/div[4]/div/button'\n",
    "xpath_dataInicial = '//*[@id=\"DataInicial\"]'\n",
    "xpath_dataFinal = '//*[@id=\"DataFinal\"]'\n",
    "xpath_formatoExcel = '//*[@id=\"Formato\"]/option[2]'\n",
    "xpath_botaoEmitir = '/html/body/div[3]/form/div/div[13]/div/button'\n",
    "\n",
    "navegador = webdriver.Chrome()\n",
    "\n",
    "#logar no sistema\n",
    "navegador.get(\"https://kpdelivery.com.br/\")\n",
    "navegador.find_element_by_xpath(xpath_login).send_keys(usuario)\n",
    "navegador.find_element_by_xpath(xpath_senha).send_keys(senha)\n",
    "time.sleep(1)\n",
    "navegador.find_element_by_xpath(xpath_botaoEnviar).click()\n",
    "\n",
    "#página de relatório de clientes\n",
    "navegador.get('https://kpdelivery.com.br/RelVendasCliente')\n",
    "time.sleep(1)\n",
    "\n",
    "#definir datas do relatório\n",
    "navegador.find_element_by_xpath(xpath_dataInicial).send_keys(dataInicial)\n",
    "navegador.find_element_by_xpath(xpath_dataFinal).send_keys(dataFinal)\n",
    "navegador.find_element_by_xpath(xpath_formatoExcel).click()\n",
    "time.sleep(2)\n",
    "\n",
    "navegador.find_element_by_xpath(xpath_botaoEmitir).click()\n",
    "\n",
    "\n"
   ]
  }
 ],
 "metadata": {
  "kernelspec": {
   "display_name": "Python 3",
   "language": "python",
   "name": "python3"
  },
  "language_info": {
   "codemirror_mode": {
    "name": "ipython",
    "version": 3
   },
   "file_extension": ".py",
   "mimetype": "text/x-python",
   "name": "python",
   "nbconvert_exporter": "python",
   "pygments_lexer": "ipython3",
   "version": "3.8.5"
  }
 },
 "nbformat": 4,
 "nbformat_minor": 4
}
