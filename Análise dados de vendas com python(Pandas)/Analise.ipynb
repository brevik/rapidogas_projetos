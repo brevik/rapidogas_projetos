{
 "cells": [
  {
   "cell_type": "code",
   "execution_count": 2,
   "metadata": {},
   "outputs": [],
   "source": [
    "import pandas as pd"
   ]
  },
  {
   "cell_type": "code",
   "execution_count": 30,
   "metadata": {},
   "outputs": [
    {
     "data": {
      "text/plain": [
       "Nenhum              367\n",
       "ILTON JOSÈ          341\n",
       "THALLISON XAVIER    340\n",
       "Gilson andrade      222\n",
       "JEFERSON             58\n",
       "Gleydson Rafael      26\n",
       "PORTARIA             25\n",
       "GABRIEL OLIVEIRA     24\n",
       "MAURICIO              4\n",
       "Name: Entregador, dtype: int64"
      ]
     },
     "execution_count": 30,
     "metadata": {},
     "output_type": "execute_result"
    }
   ],
   "source": [
    "#vendas_df = pd.read_excel(\"vendas.xlsx\")\n",
    "\n",
    "#adicionar lucro no período\n",
    "#vendas_df.loc[:, \"Lucro\"] = vendas_df[\"Total\"] - vendas_df[\"Custo\"]\n",
    "#display(vendas_df[[\"Entregador\", \"Total\", \"Custo\", \"Lucro\"]].groupby(\"Entregador\").sum())\n",
    "vendas_df[\"Entregador\"].value_counts()\n",
    "#vendas_df[[\"Entregador\",\"Total\",\"Custo\"]].groupby(\"Entregador\").sum()"
   ]
  }
 ],
 "metadata": {
  "kernelspec": {
   "display_name": "Python 3",
   "language": "python",
   "name": "python3"
  },
  "language_info": {
   "codemirror_mode": {
    "name": "ipython",
    "version": 3
   },
   "file_extension": ".py",
   "mimetype": "text/x-python",
   "name": "python",
   "nbconvert_exporter": "python",
   "pygments_lexer": "ipython3",
   "version": "3.8.5"
  }
 },
 "nbformat": 4,
 "nbformat_minor": 4
}
